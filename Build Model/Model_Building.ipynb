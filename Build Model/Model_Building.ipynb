{
 "cells": [
  {
   "cell_type": "markdown",
   "metadata": {},
   "source": [
    "## I. Import Libary"
   ]
  },
  {
   "cell_type": "code",
   "execution_count": 1,
   "metadata": {},
   "outputs": [],
   "source": [
    "import numpy as np\n",
    "import pandas as pd\n",
    "import os\n",
    "import pickle\n",
    "from sklearn.model_selection import train_test_split\n",
    "from sklearn.metrics import accuracy_score"
   ]
  },
  {
   "cell_type": "markdown",
   "metadata": {},
   "source": [
    "## II. Function Convert"
   ]
  },
  {
   "cell_type": "code",
   "execution_count": 2,
   "metadata": {},
   "outputs": [],
   "source": [
    "def convert(x):\n",
    "    conn = {\n",
    "        #state\n",
    "        'failed': 0, 'successful': 1,\n",
    "        #category\n",
    "        '3D Printing': 1, 'Academic': 2, 'Accessories': 3, 'Action': 4, 'Animals': 5,\n",
    "        'Animation': 6, 'Anthologies': 7, 'Apparel': 8, 'Apps': 9,\n",
    "        'Architecture': 10, 'Art': 11, 'Art Books': 12, 'Audio': 13, 'Bacon': 14,\n",
    "        'Blues': 15, 'Calendars': 16, 'Camera Equipment': 17, 'Candles': 18, 'Ceramics': 19,\n",
    "        \"Children's Books\": 20, 'Childrenswear': 21, 'Chiptune': 22, 'Civic Design': 23, 'Classical Music': 24,\n",
    "        'Comedy': 25, 'Comic Books': 26, 'Comics': 27, 'Community Gardens': 28, 'Conceptual Art': 29,\n",
    "        'Cookbooks': 30, 'Country & Folk': 31, 'Couture': 32, 'Crafts': 33, 'Crochet': 34,\n",
    "        'DIY': 35, 'DIY Electronics': 36, 'Dance': 37, 'Design': 38, 'Digital Art': 39,\n",
    "        'Documentary': 40, 'Drama': 41, 'Drinks': 42, 'Electronic Music': 43, 'Embroidery': 44,        \n",
    "        'Events': 45, 'Experimental': 46, 'Fabrication Tools': 47, 'Faith': 48, 'Family': 49,\n",
    "        'Fantasy': 50, \"Farmer's Markets\": 51, 'Farms': 52, 'Fashion': 53, 'Festivals': 54,\n",
    "        'Fiction': 55, 'Film & Video': 56, 'Fine Art': 57, 'Flight': 58, 'Food': 59,\n",
    "        'Food Trucks': 60, 'Footwear': 61, 'Gadgets': 62, 'Games': 63, 'Gaming Hardware': 64,\n",
    "        'Glass': 65, 'Graphic Design': 66, 'Graphic Novels': 67, 'Hardware': 68, 'Hip-Hop': 69,\n",
    "        'Horror': 70, 'Illustration': 71, 'Immersive': 72, 'Indie Rock': 73, 'Installations': 74,\n",
    "        'Interactive Design': 75, 'Jazz': 76, 'Jewelry': 77, 'Journalism': 78, 'Kids': 79,\n",
    "        'Knitting': 80, 'Latin': 81, 'Letterpress': 82, 'Literary Journals': 83, 'Literary Spaces': 84,\n",
    "        'Live Games': 85, 'Makerspaces': 86, 'Metal': 87, 'Mixed Media': 88, 'Mobile Games': 89,\n",
    "        'Movie Theaters': 90, 'Music': 91, 'Music Videos': 92, 'Musical': 93, 'Narrative Film': 94,        \n",
    "        'Nature': 95, 'Nonfiction': 96, 'Painting': 97, 'People': 98, 'Performance Art': 99,\n",
    "        'Performances': 100, 'Periodicals': 101, 'Pet Fashion': 102, 'Photo': 103, 'Photobooks': 104,\n",
    "        'Photography': 105, 'Places': 106, 'Playing Cards': 107, 'Plays': 108, 'Poetry': 109,\n",
    "        'Pop': 110, 'Pottery': 111, 'Print': 112, 'Printing': 113, 'Product Design': 114,\n",
    "        'Public Art': 115, 'Publishing': 116, 'Punk': 117, 'Puzzles': 118, 'Quilts': 119,\n",
    "        'R&B': 120, 'Radio & Podcasts': 121, 'Ready-to-wear': 122, 'Residencies': 123, 'Restaurants': 124,\n",
    "        'Robots': 125, 'Rock': 126, 'Romance': 127, 'Science Fiction': 128, 'Sculpture': 129,\n",
    "        'Shorts': 130, 'Small Batch': 131, 'Software': 132, 'Sound': 133, 'Space Exploration': 134,\n",
    "        'Spaces': 135, 'Stationery': 136, 'Tabletop Games': 137, 'Taxidermy': 138, 'Technology': 139,\n",
    "        'Television': 140, 'Textiles': 141, 'Theater': 142, 'Thrillers': 143, 'Translations': 144,\n",
    "        'Typography': 145, 'Vegan': 146, 'Video': 147, 'Video Art': 148, 'Video Games': 149,\n",
    "        'Wearables': 150, 'Weaving': 151, 'Web': 152, 'Webcomics': 153, 'Webseries': 154,\n",
    "        'Woodworking': 155, 'Workshops': 156, 'World Music': 157, 'Young Adult': 158, 'Zines': 159,\n",
    "        #main category\n",
    "        'Art': 1, 'Comics': 2, 'Crafts': 3, 'Dance': 4, 'Design': 5,\n",
    "        'Fashion': 6, 'Film & Video': 7, 'Food': 8, 'Games': 9, 'Journalism': 10,\n",
    "        'Music': 11, 'Photography': 12, 'Publishing': 13, 'Technology': 14, 'Theater': 15,        \n",
    "        #country\n",
    "        'AT': 1, 'AU': 2, 'BE': 3, 'CA': 4, 'CH': 5, 'DE': 6, 'DK': 7, 'ES': 8, 'FR': 9, 'GB': 10, 'HK': 11,'IE': 12, 'IT': 13,\n",
    "        'JP': 14, 'LU': 15, 'MX': 16, 'NL': 17, 'NO': 18, 'NZ': 19, 'SE': 20, 'SG': 21, 'US': 22,\n",
    "        #currency\n",
    "        'AUD': 1, 'CAD': 2, 'CHF': 3, 'DKK': 4, 'EUR': 5, 'GBP': 6, 'HKD': 7, 'JPY': 8, 'MXN': 9,\n",
    "        'NOK': 10, 'NZD': 11, 'SEK': 12, 'SGD': 13, 'USD': 14,\n",
    "    }\n",
    "    return conn.get(x, \"nothing\") "
   ]
  },
  {
   "cell_type": "markdown",
   "metadata": {},
   "source": [
    "## III. Get Data"
   ]
  },
  {
   "cell_type": "code",
   "execution_count": 3,
   "metadata": {},
   "outputs": [],
   "source": [
    "data = pd.read_csv('http://git.aureole-it.vn/huynd/mydata/raw/master/kickstarter.csv', encoding='utf-8')"
   ]
  },
  {
   "cell_type": "code",
   "execution_count": 4,
   "metadata": {},
   "outputs": [],
   "source": [
    "data['deadline'] = pd.to_datetime(data['deadline'])\n",
    "data['launched'] = pd.to_datetime(data['launched'])\n",
    "data['times'] = (data['deadline'] - data['launched']).dt.days\n",
    "data['times'] = data['times'].astype('int64')"
   ]
  },
  {
   "cell_type": "markdown",
   "metadata": {},
   "source": [
    "## IV. Clean Data"
   ]
  },
  {
   "cell_type": "code",
   "execution_count": 5,
   "metadata": {},
   "outputs": [],
   "source": [
    "data.dropna(inplace=True)\n",
    "data.drop(columns=['ID', 'name', 'launched',\n",
    "                        'deadline', 'backers', 'pledged',\n",
    "                        'usd pledged', 'usd_pledged_real', 'usd_goal_real'],\n",
    "               inplace=True)\n",
    "data['main_category'] = data['main_category'].apply(convert)\n",
    "data['category'] = data['category'].apply(convert)\n",
    "data['country'] = data['country'].apply(convert)\n",
    "data['state'] = data['state'].apply(convert)\n",
    "data['currency'] = data['currency'].apply(convert)"
   ]
  },
  {
   "cell_type": "markdown",
   "metadata": {},
   "source": [
    "## V. Convert Data"
   ]
  },
  {
   "cell_type": "code",
   "execution_count": 6,
   "metadata": {},
   "outputs": [
    {
     "name": "stderr",
     "output_type": "stream",
     "text": [
      "C:\\huynd\\Anaconda\\Continuum\\anaconda3\\lib\\site-packages\\ipykernel_launcher.py:3: SettingWithCopyWarning: \n",
      "A value is trying to be set on a copy of a slice from a DataFrame.\n",
      "Try using .loc[row_indexer,col_indexer] = value instead\n",
      "\n",
      "See the caveats in the documentation: http://pandas.pydata.org/pandas-docs/stable/user_guide/indexing.html#returning-a-view-versus-a-copy\n",
      "  This is separate from the ipykernel package so we can avoid doing imports until\n"
     ]
    }
   ],
   "source": [
    "model_data=data[data['state'] != 'nothing']\n",
    "\n",
    "model_data['state'] = model_data['state'].astype('int64')"
   ]
  },
  {
   "cell_type": "code",
   "execution_count": 7,
   "metadata": {},
   "outputs": [
    {
     "data": {
      "text/html": [
       "<div>\n",
       "<style scoped>\n",
       "    .dataframe tbody tr th:only-of-type {\n",
       "        vertical-align: middle;\n",
       "    }\n",
       "\n",
       "    .dataframe tbody tr th {\n",
       "        vertical-align: top;\n",
       "    }\n",
       "\n",
       "    .dataframe thead th {\n",
       "        text-align: right;\n",
       "    }\n",
       "</style>\n",
       "<table border=\"1\" class=\"dataframe\">\n",
       "  <thead>\n",
       "    <tr style=\"text-align: right;\">\n",
       "      <th></th>\n",
       "      <th>category</th>\n",
       "      <th>main_category</th>\n",
       "      <th>currency</th>\n",
       "      <th>goal</th>\n",
       "      <th>state</th>\n",
       "      <th>country</th>\n",
       "      <th>times</th>\n",
       "    </tr>\n",
       "  </thead>\n",
       "  <tbody>\n",
       "    <tr>\n",
       "      <th>0</th>\n",
       "      <td>109</td>\n",
       "      <td>13</td>\n",
       "      <td>6</td>\n",
       "      <td>1000.0</td>\n",
       "      <td>0</td>\n",
       "      <td>10</td>\n",
       "      <td>58</td>\n",
       "    </tr>\n",
       "    <tr>\n",
       "      <th>1</th>\n",
       "      <td>94</td>\n",
       "      <td>7</td>\n",
       "      <td>14</td>\n",
       "      <td>30000.0</td>\n",
       "      <td>0</td>\n",
       "      <td>22</td>\n",
       "      <td>59</td>\n",
       "    </tr>\n",
       "    <tr>\n",
       "      <th>2</th>\n",
       "      <td>94</td>\n",
       "      <td>7</td>\n",
       "      <td>14</td>\n",
       "      <td>45000.0</td>\n",
       "      <td>0</td>\n",
       "      <td>22</td>\n",
       "      <td>44</td>\n",
       "    </tr>\n",
       "    <tr>\n",
       "      <th>3</th>\n",
       "      <td>11</td>\n",
       "      <td>11</td>\n",
       "      <td>14</td>\n",
       "      <td>5000.0</td>\n",
       "      <td>0</td>\n",
       "      <td>22</td>\n",
       "      <td>29</td>\n",
       "    </tr>\n",
       "    <tr>\n",
       "      <th>5</th>\n",
       "      <td>124</td>\n",
       "      <td>8</td>\n",
       "      <td>14</td>\n",
       "      <td>50000.0</td>\n",
       "      <td>1</td>\n",
       "      <td>22</td>\n",
       "      <td>34</td>\n",
       "    </tr>\n",
       "  </tbody>\n",
       "</table>\n",
       "</div>"
      ],
      "text/plain": [
       "   category  main_category  currency     goal  state  country  times\n",
       "0       109             13         6   1000.0      0       10     58\n",
       "1        94              7        14  30000.0      0       22     59\n",
       "2        94              7        14  45000.0      0       22     44\n",
       "3        11             11        14   5000.0      0       22     29\n",
       "5       124              8        14  50000.0      1       22     34"
      ]
     },
     "execution_count": 7,
     "metadata": {},
     "output_type": "execute_result"
    }
   ],
   "source": [
    "model_data.head()"
   ]
  },
  {
   "cell_type": "markdown",
   "metadata": {},
   "source": [
    "## VI. Build Model"
   ]
  },
  {
   "cell_type": "code",
   "execution_count": 8,
   "metadata": {},
   "outputs": [],
   "source": [
    "from sklearn.preprocessing import LabelEncoder, StandardScaler\n",
    "from sklearn.pipeline import Pipeline"
   ]
  },
  {
   "cell_type": "markdown",
   "metadata": {},
   "source": [
    "- **Split data**"
   ]
  },
  {
   "cell_type": "code",
   "execution_count": 9,
   "metadata": {},
   "outputs": [],
   "source": [
    "#Split data\n",
    "X = model_data.drop(columns=['state'])\n",
    "y = model_data['state']\n",
    "X_train, X_test, y_train, y_test = train_test_split(X, y, test_size = .20, random_state = 42)\n",
    "X_train, X_val, y_train, y_val = train_test_split(X_train, y_train, test_size=.15, random_state=42)"
   ]
  },
  {
   "cell_type": "markdown",
   "metadata": {},
   "source": [
    "### 1/ Random Forest"
   ]
  },
  {
   "cell_type": "markdown",
   "metadata": {},
   "source": [
    "- **Import Libary**"
   ]
  },
  {
   "cell_type": "code",
   "execution_count": 14,
   "metadata": {},
   "outputs": [],
   "source": [
    "from sklearn.ensemble import RandomForestClassifier"
   ]
  },
  {
   "cell_type": "markdown",
   "metadata": {},
   "source": [
    "- **Build and Test RDF Model**"
   ]
  },
  {
   "cell_type": "code",
   "execution_count": 15,
   "metadata": {},
   "outputs": [
    {
     "name": "stderr",
     "output_type": "stream",
     "text": [
      "C:\\huynd\\Anaconda\\Continuum\\anaconda3\\lib\\site-packages\\sklearn\\preprocessing\\data.py:625: DataConversionWarning: Data with input dtype int64, float64 were all converted to float64 by StandardScaler.\n",
      "  return self.partial_fit(X, y)\n",
      "C:\\huynd\\Anaconda\\Continuum\\anaconda3\\lib\\site-packages\\sklearn\\base.py:465: DataConversionWarning: Data with input dtype int64, float64 were all converted to float64 by StandardScaler.\n",
      "  return self.fit(X, y, **fit_params).transform(X)\n",
      "C:\\huynd\\Anaconda\\Continuum\\anaconda3\\lib\\site-packages\\sklearn\\pipeline.py:331: DataConversionWarning: Data with input dtype int64, float64 were all converted to float64 by StandardScaler.\n",
      "  Xt = transform.transform(Xt)\n"
     ]
    },
    {
     "data": {
      "text/plain": [
       "0.6532833869670153"
      ]
     },
     "execution_count": 15,
     "metadata": {},
     "output_type": "execute_result"
    }
   ],
   "source": [
    "#Build model\n",
    "\n",
    "rdf = Pipeline([(\"Scaler\",\n",
    "                 StandardScaler()),\n",
    "                (\"RandomForest\",\n",
    "                 RandomForestClassifier(n_estimators=200, n_jobs=-1, random_state=42))])\n",
    "rdf.fit(X_train, y_train)\n",
    "pre = rdf.predict(X_val)\n",
    "#Test\n",
    "accuracy_score(pre, y_val)"
   ]
  },
  {
   "cell_type": "markdown",
   "metadata": {},
   "source": [
    "- **Save RDF Model**"
   ]
  },
  {
   "cell_type": "code",
   "execution_count": null,
   "metadata": {},
   "outputs": [],
   "source": [
    "pickle.dump(rdf, open(os.path.join('RDF.pkl'), 'wb'), protocol=4)"
   ]
  },
  {
   "cell_type": "markdown",
   "metadata": {},
   "source": [
    "### 2/ Decision Tree"
   ]
  },
  {
   "cell_type": "markdown",
   "metadata": {},
   "source": [
    "- **Import Libary**"
   ]
  },
  {
   "cell_type": "code",
   "execution_count": 12,
   "metadata": {},
   "outputs": [],
   "source": [
    "from sklearn.tree import DecisionTreeClassifier"
   ]
  },
  {
   "cell_type": "markdown",
   "metadata": {},
   "source": [
    "- **Build and Test DTF Model**"
   ]
  },
  {
   "cell_type": "code",
   "execution_count": 13,
   "metadata": {},
   "outputs": [
    {
     "name": "stderr",
     "output_type": "stream",
     "text": [
      "C:\\huynd\\Anaconda\\Continuum\\anaconda3\\lib\\site-packages\\sklearn\\preprocessing\\data.py:625: DataConversionWarning: Data with input dtype int64, float64 were all converted to float64 by StandardScaler.\n",
      "  return self.partial_fit(X, y)\n",
      "C:\\huynd\\Anaconda\\Continuum\\anaconda3\\lib\\site-packages\\sklearn\\base.py:465: DataConversionWarning: Data with input dtype int64, float64 were all converted to float64 by StandardScaler.\n",
      "  return self.fit(X, y, **fit_params).transform(X)\n",
      "C:\\huynd\\Anaconda\\Continuum\\anaconda3\\lib\\site-packages\\sklearn\\pipeline.py:331: DataConversionWarning: Data with input dtype int64, float64 were all converted to float64 by StandardScaler.\n",
      "  Xt = transform.transform(Xt)\n"
     ]
    },
    {
     "data": {
      "text/plain": [
       "0.6353831456154465"
      ]
     },
     "execution_count": 13,
     "metadata": {},
     "output_type": "execute_result"
    }
   ],
   "source": [
    "#Build model\n",
    "dtf = Pipeline([(\"Scaler\",\n",
    "                 StandardScaler()),\n",
    "                (\"DecisionTree\",\n",
    "                 DecisionTreeClassifier(random_state=42))])\n",
    "dtf.fit(X_train, y_train)\n",
    "pre = dtf.predict(X_val)\n",
    "#Test\n",
    "accuracy_score(pre, y_val)"
   ]
  },
  {
   "cell_type": "markdown",
   "metadata": {},
   "source": [
    "- **Save RDF Model**"
   ]
  },
  {
   "cell_type": "code",
   "execution_count": null,
   "metadata": {},
   "outputs": [],
   "source": [
    "pickle.dump(dtf, open(os.path.join('DTF.pkl'), 'wb'), protocol=4)"
   ]
  },
  {
   "cell_type": "markdown",
   "metadata": {},
   "source": [
    "### 3/ Logistic Regression"
   ]
  },
  {
   "cell_type": "markdown",
   "metadata": {},
   "source": [
    "- **Import Libary**"
   ]
  },
  {
   "cell_type": "code",
   "execution_count": 10,
   "metadata": {},
   "outputs": [],
   "source": [
    "from sklearn.linear_model import LogisticRegression"
   ]
  },
  {
   "cell_type": "markdown",
   "metadata": {},
   "source": [
    "- **Build and Test Logistic Regression Model**"
   ]
  },
  {
   "cell_type": "code",
   "execution_count": 11,
   "metadata": {},
   "outputs": [
    {
     "name": "stderr",
     "output_type": "stream",
     "text": [
      "C:\\huynd\\Anaconda\\Continuum\\anaconda3\\lib\\site-packages\\sklearn\\linear_model\\logistic.py:433: FutureWarning: Default solver will be changed to 'lbfgs' in 0.22. Specify a solver to silence this warning.\n",
      "  FutureWarning)\n"
     ]
    },
    {
     "data": {
      "text/plain": [
       "0.5991582821715716"
      ]
     },
     "execution_count": 11,
     "metadata": {},
     "output_type": "execute_result"
    }
   ],
   "source": [
    "#Build model\n",
    "clf = LogisticRegression()\n",
    "clf.fit(X_train, y_train)\n",
    "pre = clf.predict(X_test)\n",
    "#Test\n",
    "accuracy_score(y_test, pre)"
   ]
  },
  {
   "cell_type": "markdown",
   "metadata": {},
   "source": [
    "- **Save Linear Regression Model**"
   ]
  },
  {
   "cell_type": "code",
   "execution_count": null,
   "metadata": {},
   "outputs": [],
   "source": [
    "pickle.dump(clf, open(os.path.join('CLF.pkl'), 'wb'), protocol=4)"
   ]
  },
  {
   "cell_type": "markdown",
   "metadata": {},
   "source": [
    "### 4/ Gradient Boosting"
   ]
  },
  {
   "cell_type": "markdown",
   "metadata": {},
   "source": [
    "- **Import Libary**"
   ]
  },
  {
   "cell_type": "code",
   "execution_count": 16,
   "metadata": {},
   "outputs": [],
   "source": [
    "from sklearn.ensemble import GradientBoostingClassifier"
   ]
  },
  {
   "cell_type": "markdown",
   "metadata": {},
   "source": [
    "- **Build and Test GBF Model**"
   ]
  },
  {
   "cell_type": "code",
   "execution_count": 17,
   "metadata": {},
   "outputs": [
    {
     "name": "stderr",
     "output_type": "stream",
     "text": [
      "C:\\huynd\\Anaconda\\Continuum\\anaconda3\\lib\\site-packages\\sklearn\\preprocessing\\data.py:625: DataConversionWarning: Data with input dtype int64, float64 were all converted to float64 by StandardScaler.\n",
      "  return self.partial_fit(X, y)\n",
      "C:\\huynd\\Anaconda\\Continuum\\anaconda3\\lib\\site-packages\\sklearn\\base.py:465: DataConversionWarning: Data with input dtype int64, float64 were all converted to float64 by StandardScaler.\n",
      "  return self.fit(X, y, **fit_params).transform(X)\n",
      "C:\\huynd\\Anaconda\\Continuum\\anaconda3\\lib\\site-packages\\sklearn\\pipeline.py:331: DataConversionWarning: Data with input dtype int64, float64 were all converted to float64 by StandardScaler.\n",
      "  Xt = transform.transform(Xt)\n"
     ]
    },
    {
     "data": {
      "text/plain": [
       "0.682349569336129"
      ]
     },
     "execution_count": 17,
     "metadata": {},
     "output_type": "execute_result"
    }
   ],
   "source": [
    "#Build model\n",
    "gbf = Pipeline([(\"Scaler\",\n",
    "                 StandardScaler()),\n",
    "                (\"GradientBoosting\",\n",
    "                 GradientBoostingClassifier(n_estimators=500,\n",
    "                                            random_state=42))])\n",
    "gbf.fit(X_train, y_train)\n",
    "y_pre = gbf.predict(X_test)\n",
    "#Test\n",
    "accuracy_score(y_pre, y_test)"
   ]
  },
  {
   "cell_type": "markdown",
   "metadata": {},
   "source": [
    "- **Save GBF Model**"
   ]
  },
  {
   "cell_type": "code",
   "execution_count": 11,
   "metadata": {},
   "outputs": [],
   "source": [
    "pickle.dump(gbf, open(os.path.join('GBF.pkl'), 'wb'), protocol=4)"
   ]
  },
  {
   "cell_type": "code",
   "execution_count": null,
   "metadata": {},
   "outputs": [],
   "source": []
  }
 ],
 "metadata": {
  "kernelspec": {
   "display_name": "Python 3",
   "language": "python",
   "name": "python3"
  },
  "language_info": {
   "codemirror_mode": {
    "name": "ipython",
    "version": 3
   },
   "file_extension": ".py",
   "mimetype": "text/x-python",
   "name": "python",
   "nbconvert_exporter": "python",
   "pygments_lexer": "ipython3",
   "version": "3.7.1"
  }
 },
 "nbformat": 4,
 "nbformat_minor": 2
}
